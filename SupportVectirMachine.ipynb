{
  "nbformat": 4,
  "nbformat_minor": 0,
  "metadata": {
    "colab": {
      "name": "SupportVectirMachine",
      "provenance": [],
      "collapsed_sections": [],
      "authorship_tag": "ABX9TyPwhX5QF4b5bJ2KJU4xq/9b",
      "include_colab_link": true
    },
    "kernelspec": {
      "name": "python3",
      "display_name": "Python 3"
    },
    "language_info": {
      "name": "python"
    }
  },
  "cells": [
    {
      "cell_type": "markdown",
      "metadata": {
        "id": "view-in-github",
        "colab_type": "text"
      },
      "source": [
        "<a href=\"https://colab.research.google.com/github/jhl0580/ML_study/blob/main/SupportVectirMachine.ipynb\" target=\"_parent\"><img src=\"https://colab.research.google.com/assets/colab-badge.svg\" alt=\"Open In Colab\"/></a>"
      ]
    },
    {
      "cell_type": "code",
      "metadata": {
        "id": "sXhcs2X0f4GG"
      },
      "source": [
        "import numpy as np\n",
        "import pandas as pd\n",
        "\n",
        "from sklearn import datasets"
      ],
      "execution_count": 6,
      "outputs": []
    },
    {
      "cell_type": "code",
      "metadata": {
        "id": "K7PRa-BJgBss"
      },
      "source": [
        "iris = datasets.load_iris()\n",
        "boston = datasets.load_boston()"
      ],
      "execution_count": 7,
      "outputs": []
    },
    {
      "cell_type": "markdown",
      "metadata": {
        "id": "Q-H_O2OEgLZ_"
      },
      "source": [
        "# SVM Classifier"
      ]
    },
    {
      "cell_type": "code",
      "metadata": {
        "id": "-1UGSXosgGW4"
      },
      "source": [
        "from sklearn.model_selection import train_test_split"
      ],
      "execution_count": 6,
      "outputs": []
    },
    {
      "cell_type": "code",
      "metadata": {
        "id": "upFx3cTJgW3b"
      },
      "source": [
        "X, y = iris.data, iris.target"
      ],
      "execution_count": 7,
      "outputs": []
    },
    {
      "cell_type": "code",
      "metadata": {
        "id": "T4SlqFjWgvc6"
      },
      "source": [
        "from sklearn.svm import SVC"
      ],
      "execution_count": 8,
      "outputs": []
    },
    {
      "cell_type": "code",
      "metadata": {
        "colab": {
          "base_uri": "https://localhost:8080/"
        },
        "id": "OEsl-gr9jc7U",
        "outputId": "a7e5514b-dcab-4ca4-a0f3-dfa20b7622d4"
      },
      "source": [
        "clf = SVC(C = 1,                          #cost parameter: 클수록 margin이 작아지고 구불구불한 boundary를 가지게 됨, 작을수록 margin이 커지고 직선적인 boundary를 가지게 됨\n",
        "          kernel = 'rbf',                 #linear, poly, rbf(radial based function kernel), sigmoid 등이 있음, 단순할수록 linear\n",
        "          gamma = 'scale',                #kernel coefficient로 rbf, poly, sigmoid에서 필요\n",
        "          random_state = 0\n",
        "          )\n",
        "\n",
        "clf.fit(X, y)"
      ],
      "execution_count": 11,
      "outputs": [
        {
          "output_type": "execute_result",
          "data": {
            "text/plain": [
              "SVC(C=1, break_ties=False, cache_size=200, class_weight=None, coef0=0.0,\n",
              "    decision_function_shape='ovr', degree=3, gamma='scale', kernel='rbf',\n",
              "    max_iter=-1, probability=False, random_state=0, shrinking=True, tol=0.001,\n",
              "    verbose=False)"
            ]
          },
          "metadata": {
            "tags": []
          },
          "execution_count": 11
        }
      ]
    },
    {
      "cell_type": "code",
      "metadata": {
        "id": "J-0_qwLjoffu"
      },
      "source": [
        "from sklearn.model_selection import GridSearchCV"
      ],
      "execution_count": 2,
      "outputs": []
    },
    {
      "cell_type": "code",
      "metadata": {
        "id": "JlzxlxnZpGQC"
      },
      "source": [
        "parameters = {'C' : [1, 2, 4, 8, 16, 32],\n",
        "              'kernel' : ['linear', 'rbf', 'poly'],\n",
        "              'gamma' : ['scale', 'aute']\n",
        "              }\n",
        "\n",
        "clf_cv = GridSearchCV(estimator = SVC(), param_grid = parameters, cv= 10).fit(X, y)"
      ],
      "execution_count": null,
      "outputs": []
    },
    {
      "cell_type": "code",
      "metadata": {
        "colab": {
          "base_uri": "https://localhost:8080/"
        },
        "id": "iXzNW77Ypw3P",
        "outputId": "1ae19502-a142-41e0-e628-c4d244e1eb8d"
      },
      "source": [
        "clf_cv.best_estimator_"
      ],
      "execution_count": 22,
      "outputs": [
        {
          "output_type": "execute_result",
          "data": {
            "text/plain": [
              "SVC(C=2, break_ties=False, cache_size=200, class_weight=None, coef0=0.0,\n",
              "    decision_function_shape='ovr', degree=3, gamma='scale', kernel='linear',\n",
              "    max_iter=-1, probability=False, random_state=None, shrinking=True,\n",
              "    tol=0.001, verbose=False)"
            ]
          },
          "metadata": {
            "tags": []
          },
          "execution_count": 22
        }
      ]
    },
    {
      "cell_type": "code",
      "metadata": {
        "colab": {
          "base_uri": "https://localhost:8080/"
        },
        "id": "8IpdH5Lup1b5",
        "outputId": "5dc7e816-1799-4afa-f03e-bf8f56cbf546"
      },
      "source": [
        "clf_cv.best_score_"
      ],
      "execution_count": 23,
      "outputs": [
        {
          "output_type": "execute_result",
          "data": {
            "text/plain": [
              "0.9800000000000001"
            ]
          },
          "metadata": {
            "tags": []
          },
          "execution_count": 23
        }
      ]
    },
    {
      "cell_type": "code",
      "metadata": {
        "colab": {
          "base_uri": "https://localhost:8080/"
        },
        "id": "RzIRZZcQp23p",
        "outputId": "fd0ef229-2a24-488e-9cab-79cb10543416"
      },
      "source": [
        "clf_cv.best_params_"
      ],
      "execution_count": 24,
      "outputs": [
        {
          "output_type": "execute_result",
          "data": {
            "text/plain": [
              "{'C': 2, 'gamma': 'scale', 'kernel': 'linear'}"
            ]
          },
          "metadata": {
            "tags": []
          },
          "execution_count": 24
        }
      ]
    },
    {
      "cell_type": "code",
      "metadata": {
        "colab": {
          "base_uri": "https://localhost:8080/"
        },
        "id": "WCN4u0tip5RP",
        "outputId": "a6da0f14-6e79-4159-8a51-ef424527de96"
      },
      "source": [
        "clf.set_params(**clf_cv.best_params_)\n",
        "\n",
        "clf.fit(X, y)"
      ],
      "execution_count": 25,
      "outputs": [
        {
          "output_type": "execute_result",
          "data": {
            "text/plain": [
              "SVC(C=2, break_ties=False, cache_size=200, class_weight=None, coef0=0.0,\n",
              "    decision_function_shape='ovr', degree=3, gamma='scale', kernel='linear',\n",
              "    max_iter=-1, probability=False, random_state=0, shrinking=True, tol=0.001,\n",
              "    verbose=False)"
            ]
          },
          "metadata": {
            "tags": []
          },
          "execution_count": 25
        }
      ]
    },
    {
      "cell_type": "code",
      "metadata": {
        "colab": {
          "base_uri": "https://localhost:8080/"
        },
        "id": "6C3M5nEUqABg",
        "outputId": "3ebcf00f-bd4d-413b-da37-970619cce1bf"
      },
      "source": [
        "np.mean(clf.predict(X) == y)"
      ],
      "execution_count": 28,
      "outputs": [
        {
          "output_type": "execute_result",
          "data": {
            "text/plain": [
              "0.98"
            ]
          },
          "metadata": {
            "tags": []
          },
          "execution_count": 28
        }
      ]
    },
    {
      "cell_type": "markdown",
      "metadata": {
        "id": "wl49qJiCq1xG"
      },
      "source": [
        "# SVR"
      ]
    },
    {
      "cell_type": "code",
      "metadata": {
        "id": "zCXGbbQbqBna"
      },
      "source": [
        "from sklearn.svm import SVR\n",
        "from sklearn.model_selection import train_test_split\n",
        "from sklearn.model_selection import GridSearchCV"
      ],
      "execution_count": 8,
      "outputs": []
    },
    {
      "cell_type": "code",
      "metadata": {
        "id": "-dL7CmsksZJW"
      },
      "source": [
        "X, y = boston.data, boston.target\n",
        "\n",
        "X_train, X_test = train_test_split(X, test_size = 0.2, random_state = 0)\n",
        "y_train, y_test = train_test_split(y, test_size = 0.2, random_state = 0)"
      ],
      "execution_count": 9,
      "outputs": []
    },
    {
      "cell_type": "code",
      "metadata": {
        "colab": {
          "base_uri": "https://localhost:8080/"
        },
        "id": "Tfgu4iXUsH1N",
        "outputId": "3bd50947-bb13-402e-b6cd-ea5ff045bb1a"
      },
      "source": [
        "reg = SVR(kernel = 'rbf', gamma = 'scale', C = 100, epsilon = 0.1)\n",
        "\n",
        "reg.fit(X_train, y_train)"
      ],
      "execution_count": 10,
      "outputs": [
        {
          "output_type": "execute_result",
          "data": {
            "text/plain": [
              "SVR(C=100, cache_size=200, coef0=0.0, degree=3, epsilon=0.1, gamma='scale',\n",
              "    kernel='rbf', max_iter=-1, shrinking=True, tol=0.001, verbose=False)"
            ]
          },
          "metadata": {
            "tags": []
          },
          "execution_count": 10
        }
      ]
    },
    {
      "cell_type": "code",
      "metadata": {
        "colab": {
          "base_uri": "https://localhost:8080/"
        },
        "id": "CgMYw6iDsdXZ",
        "outputId": "4ffa94c8-456c-42e1-90c7-f5696dae61c0"
      },
      "source": [
        "np.mean((reg.predict(X_train) - y_train)**2)"
      ],
      "execution_count": 11,
      "outputs": [
        {
          "output_type": "execute_result",
          "data": {
            "text/plain": [
              "39.09449851854637"
            ]
          },
          "metadata": {
            "tags": []
          },
          "execution_count": 11
        }
      ]
    },
    {
      "cell_type": "code",
      "metadata": {
        "colab": {
          "base_uri": "https://localhost:8080/"
        },
        "id": "bVB9HCBms9JU",
        "outputId": "d7233ca9-74c4-4d7d-aad1-1dc58094b583"
      },
      "source": [
        "np.mean((reg.predict(X_test) - y_test)**2)"
      ],
      "execution_count": 12,
      "outputs": [
        {
          "output_type": "execute_result",
          "data": {
            "text/plain": [
              "60.37901506320777"
            ]
          },
          "metadata": {
            "tags": []
          },
          "execution_count": 12
        }
      ]
    },
    {
      "cell_type": "code",
      "metadata": {
        "colab": {
          "base_uri": "https://localhost:8080/"
        },
        "id": "5EUnPU76tDmY",
        "outputId": "486009e0-df62-42c2-9ab3-7f094c2b75c0"
      },
      "source": [
        "parameters = {'kernel' : ['rbf', 'poly', 'linear'],\n",
        "              'gamma' : ['scale'],\n",
        "              'C' : [1, 2, 4, 8, 16],\n",
        "              'epsilon' : [0.1]\n",
        "              }\n",
        "\n",
        "reg_cv = GridSearchCV(estimator = SVR(), param_grid = parameters, cv = 5)\n",
        "reg_cv.fit(X_train, y_train)"
      ],
      "execution_count": 13,
      "outputs": [
        {
          "output_type": "execute_result",
          "data": {
            "text/plain": [
              "GridSearchCV(cv=5, error_score=nan,\n",
              "             estimator=SVR(C=1.0, cache_size=200, coef0=0.0, degree=3,\n",
              "                           epsilon=0.1, gamma='scale', kernel='rbf',\n",
              "                           max_iter=-1, shrinking=True, tol=0.001,\n",
              "                           verbose=False),\n",
              "             iid='deprecated', n_jobs=None,\n",
              "             param_grid={'C': [1, 2, 4, 8, 16], 'epsilon': [0.1],\n",
              "                         'gamma': ['scale'],\n",
              "                         'kernel': ['rbf', 'poly', 'linear']},\n",
              "             pre_dispatch='2*n_jobs', refit=True, return_train_score=False,\n",
              "             scoring=None, verbose=0)"
            ]
          },
          "metadata": {
            "tags": []
          },
          "execution_count": 13
        }
      ]
    },
    {
      "cell_type": "code",
      "metadata": {
        "colab": {
          "base_uri": "https://localhost:8080/"
        },
        "id": "zZDboCcrtsr5",
        "outputId": "431bbb12-7802-4e3c-9fd5-f01f54c631fa"
      },
      "source": [
        "reg_cv.best_score_"
      ],
      "execution_count": 14,
      "outputs": [
        {
          "output_type": "execute_result",
          "data": {
            "text/plain": [
              "0.7394032889863922"
            ]
          },
          "metadata": {
            "tags": []
          },
          "execution_count": 14
        }
      ]
    },
    {
      "cell_type": "code",
      "metadata": {
        "colab": {
          "base_uri": "https://localhost:8080/"
        },
        "id": "t6AUq5DatzH8",
        "outputId": "f9c0723d-56f8-421e-d9fb-338583f820a6"
      },
      "source": [
        "reg_cv.best_params_"
      ],
      "execution_count": 16,
      "outputs": [
        {
          "output_type": "execute_result",
          "data": {
            "text/plain": [
              "{'C': 1, 'epsilon': 0.1, 'gamma': 'scale', 'kernel': 'linear'}"
            ]
          },
          "metadata": {
            "tags": []
          },
          "execution_count": 16
        }
      ]
    },
    {
      "cell_type": "code",
      "metadata": {
        "colab": {
          "base_uri": "https://localhost:8080/"
        },
        "id": "aRlsGN-LN-6M",
        "outputId": "59ced563-3b50-428e-c273-9b7a93e3a8ee"
      },
      "source": [
        "reg.set_params(**reg_cv.best_params_)\n",
        "\n",
        "reg.fit(X_train, y_train)"
      ],
      "execution_count": 22,
      "outputs": [
        {
          "output_type": "execute_result",
          "data": {
            "text/plain": [
              "SVR(C=1, cache_size=200, coef0=0.0, degree=3, epsilon=0.1, gamma='scale',\n",
              "    kernel='linear', max_iter=-1, shrinking=True, tol=0.001, verbose=False)"
            ]
          },
          "metadata": {
            "tags": []
          },
          "execution_count": 22
        }
      ]
    },
    {
      "cell_type": "code",
      "metadata": {
        "colab": {
          "base_uri": "https://localhost:8080/"
        },
        "id": "Uibj2CsoODdv",
        "outputId": "600cea05-7b06-4d14-ad9d-b0480ee00bcc"
      },
      "source": [
        "np.mean((y_train - reg.predict(X_train))**2)"
      ],
      "execution_count": 23,
      "outputs": [
        {
          "output_type": "execute_result",
          "data": {
            "text/plain": [
              "21.413587662651395"
            ]
          },
          "metadata": {
            "tags": []
          },
          "execution_count": 23
        }
      ]
    },
    {
      "cell_type": "code",
      "metadata": {
        "colab": {
          "base_uri": "https://localhost:8080/"
        },
        "id": "Cau8RXPdOP8k",
        "outputId": "f54e5856-738c-4b85-ed2b-f21f86f9cd2a"
      },
      "source": [
        "np.mean((y_test - reg.predict(X_test))**2)"
      ],
      "execution_count": 24,
      "outputs": [
        {
          "output_type": "execute_result",
          "data": {
            "text/plain": [
              "39.41504943346572"
            ]
          },
          "metadata": {
            "tags": []
          },
          "execution_count": 24
        }
      ]
    },
    {
      "cell_type": "code",
      "metadata": {
        "id": "b8d36fFNOXiS"
      },
      "source": [
        ""
      ],
      "execution_count": null,
      "outputs": []
    }
  ]
}