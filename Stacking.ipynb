{
  "nbformat": 4,
  "nbformat_minor": 0,
  "metadata": {
    "colab": {
      "name": "Stacking",
      "provenance": [],
      "collapsed_sections": [],
      "authorship_tag": "ABX9TyMDpPtsCFho7PLj47byYQ4+",
      "include_colab_link": true
    },
    "kernelspec": {
      "name": "python3",
      "display_name": "Python 3"
    },
    "language_info": {
      "name": "python"
    }
  },
  "cells": [
    {
      "cell_type": "markdown",
      "metadata": {
        "id": "view-in-github",
        "colab_type": "text"
      },
      "source": [
        "<a href=\"https://colab.research.google.com/github/jhl0580/ML_study/blob/main/Stacking.ipynb\" target=\"_parent\"><img src=\"https://colab.research.google.com/assets/colab-badge.svg\" alt=\"Open In Colab\"/></a>"
      ]
    },
    {
      "cell_type": "code",
      "metadata": {
        "id": "RMkgxGX1ivx8"
      },
      "source": [
        "import numpy as np\n",
        "import pandas as pd\n",
        "\n",
        "from sklearn import datasets"
      ],
      "execution_count": 1,
      "outputs": []
    },
    {
      "cell_type": "code",
      "metadata": {
        "id": "_Msx9PwOi4qS"
      },
      "source": [
        "iris = datasets.load_iris()"
      ],
      "execution_count": 5,
      "outputs": []
    },
    {
      "cell_type": "code",
      "metadata": {
        "id": "IE7qLaFIrFv2"
      },
      "source": [
        "boston = datasets.load_boston()"
      ],
      "execution_count": 65,
      "outputs": []
    },
    {
      "cell_type": "markdown",
      "metadata": {
        "id": "BiV2uB6VklWp"
      },
      "source": [
        "# Stacking"
      ]
    },
    {
      "cell_type": "markdown",
      "metadata": {
        "id": "Hcnu36strAsk"
      },
      "source": [
        "## Classification"
      ]
    },
    {
      "cell_type": "code",
      "metadata": {
        "id": "6ERqPoTvkk1Z"
      },
      "source": [
        "from sklearn.ensemble import RandomForestClassifier, BaggingClassifier, GradientBoostingClassifier\n",
        "from sklearn.ensemble import StackingClassifier\n",
        "from sklearn.linear_model import LogisticRegression"
      ],
      "execution_count": 15,
      "outputs": []
    },
    {
      "cell_type": "code",
      "metadata": {
        "id": "4mwaGLj6jFs0"
      },
      "source": [
        "X, y = iris.data, iris.target"
      ],
      "execution_count": 9,
      "outputs": []
    },
    {
      "cell_type": "code",
      "metadata": {
        "id": "3R_qyO-xlsKp"
      },
      "source": [
        "#level-1 data를 만들기 위한 base estimators\n",
        "base_estimators = [('rf', RandomForestClassifier(n_estimators = 10, max_depth = 3, max_features = 'auto', random_state = 0)),\n",
        "                   ('bag', BaggingClassifier(n_estimators = 10, random_state = 0)),\n",
        "                   ('gbm', GradientBoostingClassifier(loss = 'deviance', learning_rate = 0.01, n_estimators = 10, max_depth = 3, random_state = 0))\n",
        "                   ]"
      ],
      "execution_count": 62,
      "outputs": []
    },
    {
      "cell_type": "code",
      "metadata": {
        "id": "LHiR5mI7nQDR"
      },
      "source": [
        "clf_stack = StackingClassifier(estimators = base_estimators,                    #base_estimators에 있는 모델을 활용\n",
        "                               final_estimator = LogisticRegression(),          #meta learner로 logistic 모델을 활용  \n",
        "                               cv = 5)                                          #levle-1 data를 얻기 위한 cv estimation에서 5개의 fold를 활용\n",
        "clf_stack.fit(X, y)"
      ],
      "execution_count": 63,
      "outputs": []
    },
    {
      "cell_type": "code",
      "metadata": {
        "colab": {
          "base_uri": "https://localhost:8080/"
        },
        "id": "uOhsw2gWn0fn",
        "outputId": "d63b7dc3-1828-48de-bfb5-9f0e58978b4f"
      },
      "source": [
        "clf_stack.final_estimator_.coef_                                                #base estimator에 random_state가 있다면 meta_learner에서는 항상 같은 결과가 나옴."
      ],
      "execution_count": 64,
      "outputs": [
        {
          "output_type": "execute_result",
          "data": {
            "text/plain": [
              "array([[ 1.50266135, -0.76958667, -0.73312223,  1.55929598, -0.80142467,\n",
              "        -0.75791887,  0.15269327, -0.07402085, -0.07871998],\n",
              "       [-0.78394077,  1.14980643, -0.36570861, -0.74305025,  1.24008497,\n",
              "        -0.49687766, -0.07999805,  0.15749057, -0.07733547],\n",
              "       [-0.71872058, -0.38021976,  1.09883085, -0.81624573, -0.43866031,\n",
              "         1.25479653, -0.07269523, -0.08346972,  0.15605545]])"
            ]
          },
          "metadata": {
            "tags": []
          },
          "execution_count": 64
        }
      ]
    },
    {
      "cell_type": "markdown",
      "metadata": {
        "id": "Q3djsehPrAHJ"
      },
      "source": [
        "## Regression"
      ]
    },
    {
      "cell_type": "code",
      "metadata": {
        "id": "ceIJBqD9n3pt"
      },
      "source": [
        "from sklearn.model_selection import train_test_split\n",
        "\n",
        "X, y = boston.data, boston.target\n",
        "\n",
        "train_X, test_X = train_test_split(X, test_size = 0.2, shuffle = True, random_state = 0)\n",
        "train_y, test_y = train_test_split(y, test_size = 0.2, shuffle = True, random_state = 0)"
      ],
      "execution_count": 115,
      "outputs": []
    },
    {
      "cell_type": "code",
      "metadata": {
        "id": "iL7yAb_jrJ0c"
      },
      "source": [
        "from sklearn.ensemble import RandomForestRegressor, GradientBoostingRegressor, BaggingRegressor\n",
        "from sklearn.ensemble import StackingRegressor\n",
        "from sklearn.linear_model import LinearRegression\n",
        "\n",
        "from sklearn.model_selection import GridSearchCV"
      ],
      "execution_count": 156,
      "outputs": []
    },
    {
      "cell_type": "markdown",
      "metadata": {
        "id": "TDKQcG7s1QxF"
      },
      "source": [
        "### Random Forest"
      ]
    },
    {
      "cell_type": "code",
      "metadata": {
        "id": "g40u8Hf8s1Ve"
      },
      "source": [
        "rf = RandomForestRegressor(random_state = 0, max_features = 0.33)\n",
        "\n",
        "parameters = {'n_estimators' : [1, 2, 4, 8, 16, 32, 64, 128],\n",
        "              'max_depth' : [3, 5, 7, 10]\n",
        "              }\n",
        "rf_cv = GridSearchCV(estimator = RandomForestRegressor(), param_grid = parameters, cv = 10).fit(train_X, train_y)"
      ],
      "execution_count": 120,
      "outputs": []
    },
    {
      "cell_type": "code",
      "metadata": {
        "colab": {
          "base_uri": "https://localhost:8080/"
        },
        "id": "GTqhm-Zgt1hq",
        "outputId": "a450b07c-8d93-486d-ad25-0239eea12f21"
      },
      "source": [
        "rf_cv.best_params_"
      ],
      "execution_count": 121,
      "outputs": [
        {
          "output_type": "execute_result",
          "data": {
            "text/plain": [
              "{'max_depth': 10, 'n_estimators': 64}"
            ]
          },
          "metadata": {
            "tags": []
          },
          "execution_count": 121
        }
      ]
    },
    {
      "cell_type": "code",
      "metadata": {
        "colab": {
          "base_uri": "https://localhost:8080/"
        },
        "id": "MiDnXz9yu39w",
        "outputId": "13a65de8-9471-4655-edec-ad4976c466da"
      },
      "source": [
        "rf.set_params(**rf_cv.best_params_)\n",
        "\n",
        "rf.fit(train_X, train_y)"
      ],
      "execution_count": 124,
      "outputs": [
        {
          "output_type": "execute_result",
          "data": {
            "text/plain": [
              "RandomForestRegressor(bootstrap=True, ccp_alpha=0.0, criterion='mse',\n",
              "                      max_depth=10, max_features=0.33, max_leaf_nodes=None,\n",
              "                      max_samples=None, min_impurity_decrease=0.0,\n",
              "                      min_impurity_split=None, min_samples_leaf=1,\n",
              "                      min_samples_split=2, min_weight_fraction_leaf=0.0,\n",
              "                      n_estimators=64, n_jobs=None, oob_score=False,\n",
              "                      random_state=0, verbose=0, warm_start=False)"
            ]
          },
          "metadata": {
            "tags": []
          },
          "execution_count": 124
        }
      ]
    },
    {
      "cell_type": "code",
      "metadata": {
        "colab": {
          "base_uri": "https://localhost:8080/"
        },
        "id": "sGIEGsR-x4oc",
        "outputId": "60ed32ac-0916-47bd-f7ca-921c27093c46"
      },
      "source": [
        "np.mean((test_y - rf.predict(test_X))**2)"
      ],
      "execution_count": 128,
      "outputs": [
        {
          "output_type": "execute_result",
          "data": {
            "text/plain": [
              "26.35797003177714"
            ]
          },
          "metadata": {
            "tags": []
          },
          "execution_count": 128
        }
      ]
    },
    {
      "cell_type": "markdown",
      "metadata": {
        "id": "fU_9fm2a1VcO"
      },
      "source": [
        "### Bagging"
      ]
    },
    {
      "cell_type": "code",
      "metadata": {
        "id": "7Xuw6PgC1U0x"
      },
      "source": [
        "bag = BaggingRegressor(random_state = 0)\n",
        "\n",
        "parameters = {'n_estimators' : [32, 64, 128, 256, 512]}\n",
        "\n",
        "bag_cv = GridSearchCV(estimator = BaggingRegressor(), param_grid = parameters, cv = 10).fit(train_X, train_y)"
      ],
      "execution_count": 143,
      "outputs": []
    },
    {
      "cell_type": "code",
      "metadata": {
        "colab": {
          "base_uri": "https://localhost:8080/"
        },
        "id": "GAU-NiYs1wFY",
        "outputId": "e7e7ac17-7043-44a9-8db3-929d669bfa1e"
      },
      "source": [
        "bag_cv.best_params_"
      ],
      "execution_count": 144,
      "outputs": [
        {
          "output_type": "execute_result",
          "data": {
            "text/plain": [
              "{'n_estimators': 64}"
            ]
          },
          "metadata": {
            "tags": []
          },
          "execution_count": 144
        }
      ]
    },
    {
      "cell_type": "code",
      "metadata": {
        "colab": {
          "base_uri": "https://localhost:8080/"
        },
        "id": "J3SmO9yx2DJZ",
        "outputId": "69972270-7b91-4b80-a67e-53ae34b136ce"
      },
      "source": [
        "bag.set_params(**bag_cv.best_params_)\n",
        "\n",
        "bag.fit(train_X, train_y)"
      ],
      "execution_count": 145,
      "outputs": [
        {
          "output_type": "execute_result",
          "data": {
            "text/plain": [
              "BaggingRegressor(base_estimator=None, bootstrap=True, bootstrap_features=False,\n",
              "                 max_features=1.0, max_samples=1.0, n_estimators=64,\n",
              "                 n_jobs=None, oob_score=False, random_state=0, verbose=0,\n",
              "                 warm_start=False)"
            ]
          },
          "metadata": {
            "tags": []
          },
          "execution_count": 145
        }
      ]
    },
    {
      "cell_type": "code",
      "metadata": {
        "colab": {
          "base_uri": "https://localhost:8080/"
        },
        "id": "c1bKq-oZ2DGC",
        "outputId": "60627627-ae71-47ba-bead-8a1a027f46eb"
      },
      "source": [
        "np.mean((test_y - bag.predict(test_X))**2)"
      ],
      "execution_count": 148,
      "outputs": [
        {
          "output_type": "execute_result",
          "data": {
            "text/plain": [
              "19.67245919021906"
            ]
          },
          "metadata": {
            "tags": []
          },
          "execution_count": 148
        }
      ]
    },
    {
      "cell_type": "markdown",
      "metadata": {
        "id": "c7SWAHtH3Dsa"
      },
      "source": [
        "### GradientBoosting"
      ]
    },
    {
      "cell_type": "code",
      "metadata": {
        "id": "ZOBb9g-L2-QB"
      },
      "source": [
        "gbm = GradientBoostingRegressor(loss = 'ls', random_state = 0)\n",
        "\n",
        "parameters = {'learning_rate' : [0.1, 0.05, 0.01, 0.005, 0.001],\n",
        "              'n_estimators' : [1, 2, 4, 8, 16, 32, 64, 128],\n",
        "              'max_depth' : [1, 2, 3, 4, 5]\n",
        "              }\n",
        "\n",
        "gbm_cv = GridSearchCV(estimator = GradientBoostingRegressor(), param_grid = parameters, cv = 10).fit(train_X, train_y)"
      ],
      "execution_count": 150,
      "outputs": []
    },
    {
      "cell_type": "code",
      "metadata": {
        "colab": {
          "base_uri": "https://localhost:8080/"
        },
        "id": "S8YiAyFT4AUl",
        "outputId": "806e6170-eed6-4ece-f42b-ff026dc4b110"
      },
      "source": [
        "gbm_cv.best_params_"
      ],
      "execution_count": 151,
      "outputs": [
        {
          "output_type": "execute_result",
          "data": {
            "text/plain": [
              "{'learning_rate': 0.1, 'max_depth': 3, 'n_estimators': 128}"
            ]
          },
          "metadata": {
            "tags": []
          },
          "execution_count": 151
        }
      ]
    },
    {
      "cell_type": "code",
      "metadata": {
        "colab": {
          "base_uri": "https://localhost:8080/"
        },
        "id": "-Ju11F4p4OKw",
        "outputId": "3969cfcf-5112-4539-c188-f7bbf35ffada"
      },
      "source": [
        "gbm.set_params(**gbm_cv.best_params_)\n",
        "\n",
        "gbm.fit(train_X, train_y)"
      ],
      "execution_count": 154,
      "outputs": [
        {
          "output_type": "execute_result",
          "data": {
            "text/plain": [
              "GradientBoostingRegressor(alpha=0.9, ccp_alpha=0.0, criterion='friedman_mse',\n",
              "                          init=None, learning_rate=0.1, loss='ls', max_depth=3,\n",
              "                          max_features=None, max_leaf_nodes=None,\n",
              "                          min_impurity_decrease=0.0, min_impurity_split=None,\n",
              "                          min_samples_leaf=1, min_samples_split=2,\n",
              "                          min_weight_fraction_leaf=0.0, n_estimators=128,\n",
              "                          n_iter_no_change=None, presort='deprecated',\n",
              "                          random_state=0, subsample=1.0, tol=0.0001,\n",
              "                          validation_fraction=0.1, verbose=0, warm_start=False)"
            ]
          },
          "metadata": {
            "tags": []
          },
          "execution_count": 154
        }
      ]
    },
    {
      "cell_type": "code",
      "metadata": {
        "colab": {
          "base_uri": "https://localhost:8080/"
        },
        "id": "S7VBqg7a4VTx",
        "outputId": "9f5a2b1b-d0ed-4408-cdaf-8cce2cd4c92f"
      },
      "source": [
        "np.mean((test_y - gbm.predict(test_X))**2)"
      ],
      "execution_count": 155,
      "outputs": [
        {
          "output_type": "execute_result",
          "data": {
            "text/plain": [
              "17.206733096736173"
            ]
          },
          "metadata": {
            "tags": []
          },
          "execution_count": 155
        }
      ]
    },
    {
      "cell_type": "markdown",
      "metadata": {
        "id": "WjJU6M3G4vFp"
      },
      "source": [
        "### Stacking"
      ]
    },
    {
      "cell_type": "code",
      "metadata": {
        "id": "Z6dpDO_X4usq"
      },
      "source": [
        "base_estimators = [\n",
        "                   ('bag', bag),\n",
        "                   ('gbm', gbm)\n",
        "                   ]"
      ],
      "execution_count": 185,
      "outputs": []
    },
    {
      "cell_type": "code",
      "metadata": {
        "colab": {
          "base_uri": "https://localhost:8080/"
        },
        "id": "laZAWOQh4kYn",
        "outputId": "f939beae-c5e8-44b8-f290-85c44a8ec5c4"
      },
      "source": [
        "reg_stack = StackingRegressor(estimators = base_estimators,\n",
        "                              final_estimator = LinearRegression(),\n",
        "                              cv = 5)\n",
        "\n",
        "reg_stack.fit(train_X, train_y)"
      ],
      "execution_count": 186,
      "outputs": [
        {
          "output_type": "execute_result",
          "data": {
            "text/plain": [
              "StackingRegressor(cv=5,\n",
              "                  estimators=[('bag',\n",
              "                               BaggingRegressor(base_estimator=None,\n",
              "                                                bootstrap=True,\n",
              "                                                bootstrap_features=False,\n",
              "                                                max_features=1.0,\n",
              "                                                max_samples=1.0,\n",
              "                                                n_estimators=64, n_jobs=None,\n",
              "                                                oob_score=False, random_state=0,\n",
              "                                                verbose=0, warm_start=False)),\n",
              "                              ('gbm',\n",
              "                               GradientBoostingRegressor(alpha=0.9,\n",
              "                                                         ccp_alpha=0.0,\n",
              "                                                         criterion='friedman_mse',\n",
              "                                                         init=None,\n",
              "                                                         learning_rate=0.1,...\n",
              "                                                         min_samples_leaf=1,\n",
              "                                                         min_samples_split=2,\n",
              "                                                         min_weight_fraction_leaf=0.0,\n",
              "                                                         n_estimators=128,\n",
              "                                                         n_iter_no_change=None,\n",
              "                                                         presort='deprecated',\n",
              "                                                         random_state=0,\n",
              "                                                         subsample=1.0,\n",
              "                                                         tol=0.0001,\n",
              "                                                         validation_fraction=0.1,\n",
              "                                                         verbose=0,\n",
              "                                                         warm_start=False))],\n",
              "                  final_estimator=LinearRegression(copy_X=True,\n",
              "                                                   fit_intercept=True,\n",
              "                                                   n_jobs=None,\n",
              "                                                   normalize=False),\n",
              "                  n_jobs=None, passthrough=False, verbose=0)"
            ]
          },
          "metadata": {
            "tags": []
          },
          "execution_count": 186
        }
      ]
    },
    {
      "cell_type": "code",
      "metadata": {
        "colab": {
          "base_uri": "https://localhost:8080/"
        },
        "id": "Xf8zOkWU58bO",
        "outputId": "2154fe33-1592-47ed-dbe9-ff75da12fc62"
      },
      "source": [
        "np.mean((test_y - reg_stack.predict(test_X))**2)"
      ],
      "execution_count": 187,
      "outputs": [
        {
          "output_type": "execute_result",
          "data": {
            "text/plain": [
              "17.022056741921386"
            ]
          },
          "metadata": {
            "tags": []
          },
          "execution_count": 187
        }
      ]
    },
    {
      "cell_type": "code",
      "metadata": {
        "id": "zSLogFSP6Hsb"
      },
      "source": [
        ""
      ],
      "execution_count": null,
      "outputs": []
    }
  ]
}